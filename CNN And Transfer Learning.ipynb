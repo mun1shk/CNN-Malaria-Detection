{
  "nbformat": 4,
  "nbformat_minor": 0,
  "metadata": {
    "kernelspec": {
      "display_name": "Python 3",
      "language": "python",
      "name": "python3"
    },
    "language_info": {
      "codemirror_mode": {
        "name": "ipython",
        "version": 3
      },
      "file_extension": ".py",
      "mimetype": "text/x-python",
      "name": "python",
      "nbconvert_exporter": "python",
      "pygments_lexer": "ipython3",
      "version": "3.7.4"
    },
    "colab": {
      "name": "CNN And Transfer Learning.ipynb",
      "provenance": []
    }
  },
  "cells": [
    {
      "cell_type": "markdown",
      "metadata": {
        "id": "TN2dDkPfB3k5"
      },
      "source": [
        "## Creating CNN Using Scratch And Transfer Learning"
      ]
    },
    {
      "cell_type": "markdown",
      "metadata": {
        "id": "GwKs7W66B3k8"
      },
      "source": [
        "Please download the dataset from the below url"
      ]
    },
    {
      "cell_type": "code",
      "metadata": {
        "id": "lfM7f9jMB3k-"
      },
      "source": [
        "# import the libraries as shown below\n",
        "\n",
        "from tensorflow.keras.layers import Input, Lambda, Dense, Flatten,Conv2D\n",
        "from tensorflow.keras.models import Model\n",
        "from tensorflow.keras.applications.vgg19 import VGG19\n",
        "from tensorflow.keras.applications.resnet50 import preprocess_input\n",
        "from tensorflow.keras.preprocessing import image\n",
        "from tensorflow.keras.preprocessing.image import ImageDataGenerator,load_img\n",
        "from tensorflow.keras.models import Sequential\n",
        "import numpy as np\n",
        "from glob import glob\n",
        "import matplotlib.pyplot as plt"
      ],
      "execution_count": 3,
      "outputs": []
    },
    {
      "cell_type": "code",
      "metadata": {
        "colab": {
          "base_uri": "https://localhost:8080/"
        },
        "id": "VNxg77eiK6P9",
        "outputId": "858383e4-be4d-46fc-ad5a-19b80a326330"
      },
      "source": [
        "from google.colab import drive\n",
        "drive.mount('/content/drive')"
      ],
      "execution_count": 24,
      "outputs": [
        {
          "output_type": "stream",
          "text": [
            "Mounted at /content/drive\n"
          ],
          "name": "stdout"
        }
      ]
    },
    {
      "cell_type": "code",
      "metadata": {
        "id": "9OxspchNB3lA"
      },
      "source": [
        "# re-size all the images to this\n",
        "IMAGE_SIZE = [224, 224]\n",
        "\n",
        "train_path = 'cell_images/Train'\n",
        "valid_path = 'cell_images/Test'\n"
      ],
      "execution_count": 25,
      "outputs": []
    },
    {
      "cell_type": "code",
      "metadata": {
        "id": "7-9l-2POB3lC"
      },
      "source": [
        "# Import the Vgg 16 library as shown below and add preprocessing layer to the front of VGG\n",
        "# Here we will be using imagenet weights\n",
        "\n",
        "mobilnet = VGG19(input_shape=IMAGE_SIZE + [3], weights='imagenet', include_top=False)\n",
        "\n",
        "\n"
      ],
      "execution_count": 26,
      "outputs": []
    },
    {
      "cell_type": "code",
      "metadata": {
        "id": "AOaKRJWOB3lD"
      },
      "source": [
        "# don't train existing weights\n",
        "for layer in mobilnet.layers:\n",
        "    layer.trainable = False"
      ],
      "execution_count": 27,
      "outputs": []
    },
    {
      "cell_type": "code",
      "metadata": {
        "id": "viinaDPiB3lE"
      },
      "source": [
        "  # useful for getting number of output classes\n",
        "folders = glob('/content/drive/My Drive/Dataset/Train/*')\n",
        "#folders=2"
      ],
      "execution_count": 44,
      "outputs": []
    },
    {
      "cell_type": "code",
      "metadata": {
        "colab": {
          "base_uri": "https://localhost:8080/"
        },
        "id": "TJGqnCuZB3lE",
        "outputId": "30e37c57-259d-4bc3-f9eb-f81df55fac45"
      },
      "source": [
        "folders"
      ],
      "execution_count": 45,
      "outputs": [
        {
          "output_type": "execute_result",
          "data": {
            "text/plain": [
              "['/content/drive/My Drive/Dataset/Train/Parasite',\n",
              " '/content/drive/My Drive/Dataset/Train/Uninfected']"
            ]
          },
          "metadata": {
            "tags": []
          },
          "execution_count": 45
        }
      ]
    },
    {
      "cell_type": "code",
      "metadata": {
        "id": "8b_9cq2rB3lG"
      },
      "source": [
        "# our layers - you can add more if you want\n",
        "x = Flatten()(mobilnet.output)"
      ],
      "execution_count": 39,
      "outputs": []
    },
    {
      "cell_type": "code",
      "metadata": {
        "id": "vLiJ0sbXB3lI"
      },
      "source": [
        "prediction = Dense(len(folders), activation='softmax')(x)\n",
        "#prediction = Dense((folders), activation='softmax')(x)\n",
        "# create a model object\n",
        "model = Model(inputs=mobilnet.input, outputs=prediction)"
      ],
      "execution_count": 46,
      "outputs": []
    },
    {
      "cell_type": "code",
      "metadata": {
        "colab": {
          "base_uri": "https://localhost:8080/"
        },
        "id": "tRRrxwz4B3lJ",
        "outputId": "76eac0ce-92ec-4de3-93df-c0e8c3f6faf7"
      },
      "source": [
        "\n",
        "# view the structure of the model\n",
        "model.summary()\n"
      ],
      "execution_count": 52,
      "outputs": [
        {
          "output_type": "stream",
          "text": [
            "Model: \"model_3\"\n",
            "_________________________________________________________________\n",
            "Layer (type)                 Output Shape              Param #   \n",
            "=================================================================\n",
            "input_2 (InputLayer)         [(None, 224, 224, 3)]     0         \n",
            "_________________________________________________________________\n",
            "block1_conv1 (Conv2D)        (None, 224, 224, 64)      1792      \n",
            "_________________________________________________________________\n",
            "block1_conv2 (Conv2D)        (None, 224, 224, 64)      36928     \n",
            "_________________________________________________________________\n",
            "block1_pool (MaxPooling2D)   (None, 112, 112, 64)      0         \n",
            "_________________________________________________________________\n",
            "block2_conv1 (Conv2D)        (None, 112, 112, 128)     73856     \n",
            "_________________________________________________________________\n",
            "block2_conv2 (Conv2D)        (None, 112, 112, 128)     147584    \n",
            "_________________________________________________________________\n",
            "block2_pool (MaxPooling2D)   (None, 56, 56, 128)       0         \n",
            "_________________________________________________________________\n",
            "block3_conv1 (Conv2D)        (None, 56, 56, 256)       295168    \n",
            "_________________________________________________________________\n",
            "block3_conv2 (Conv2D)        (None, 56, 56, 256)       590080    \n",
            "_________________________________________________________________\n",
            "block3_conv3 (Conv2D)        (None, 56, 56, 256)       590080    \n",
            "_________________________________________________________________\n",
            "block3_conv4 (Conv2D)        (None, 56, 56, 256)       590080    \n",
            "_________________________________________________________________\n",
            "block3_pool (MaxPooling2D)   (None, 28, 28, 256)       0         \n",
            "_________________________________________________________________\n",
            "block4_conv1 (Conv2D)        (None, 28, 28, 512)       1180160   \n",
            "_________________________________________________________________\n",
            "block4_conv2 (Conv2D)        (None, 28, 28, 512)       2359808   \n",
            "_________________________________________________________________\n",
            "block4_conv3 (Conv2D)        (None, 28, 28, 512)       2359808   \n",
            "_________________________________________________________________\n",
            "block4_conv4 (Conv2D)        (None, 28, 28, 512)       2359808   \n",
            "_________________________________________________________________\n",
            "block4_pool (MaxPooling2D)   (None, 14, 14, 512)       0         \n",
            "_________________________________________________________________\n",
            "block5_conv1 (Conv2D)        (None, 14, 14, 512)       2359808   \n",
            "_________________________________________________________________\n",
            "block5_conv2 (Conv2D)        (None, 14, 14, 512)       2359808   \n",
            "_________________________________________________________________\n",
            "block5_conv3 (Conv2D)        (None, 14, 14, 512)       2359808   \n",
            "_________________________________________________________________\n",
            "block5_conv4 (Conv2D)        (None, 14, 14, 512)       2359808   \n",
            "_________________________________________________________________\n",
            "block5_pool (MaxPooling2D)   (None, 7, 7, 512)         0         \n",
            "_________________________________________________________________\n",
            "flatten_2 (Flatten)          (None, 25088)             0         \n",
            "_________________________________________________________________\n",
            "dense_3 (Dense)              (None, 2)                 50178     \n",
            "=================================================================\n",
            "Total params: 20,074,562\n",
            "Trainable params: 50,178\n",
            "Non-trainable params: 20,024,384\n",
            "_________________________________________________________________\n"
          ],
          "name": "stdout"
        }
      ]
    },
    {
      "cell_type": "code",
      "metadata": {
        "id": "RlaRnXKMB3lK"
      },
      "source": [
        "from tensorflow.keras.layers import MaxPooling2D"
      ],
      "execution_count": 18,
      "outputs": []
    },
    {
      "cell_type": "code",
      "metadata": {
        "id": "XAIixUeYB3lK",
        "outputId": "1deb462f-14bd-483c-c64c-96a2047737c6"
      },
      "source": [
        "### Create Model from scratch using CNN\n",
        "model=Sequential()\n",
        "model.add(Conv2D(filters=16,kernel_size=2,padding=\"same\",activation=\"relu\",input_shape=(224,224,3)))\n",
        "model.add(MaxPooling2D(pool_size=2))\n",
        "model.add(Conv2D(filters=32,kernel_size=2,padding=\"same\",activation =\"relu\"))\n",
        "model.add(MaxPooling2D(pool_size=2))\n",
        "model.add(Conv2D(filters=64,kernel_size=2,padding=\"same\",activation=\"relu\"))\n",
        "model.add(MaxPooling2D(pool_size=2))\n",
        "model.add(Flatten())\n",
        "model.add(Dense(500,activation=\"relu\"))\n",
        "model.add(Dense(2,activation=\"softmax\"))\n",
        "model.summary()"
      ],
      "execution_count": null,
      "outputs": [
        {
          "output_type": "stream",
          "text": [
            "Model: \"sequential_1\"\n",
            "_________________________________________________________________\n",
            "Layer (type)                 Output Shape              Param #   \n",
            "=================================================================\n",
            "conv2d_1 (Conv2D)            (None, 224, 224, 16)      208       \n",
            "_________________________________________________________________\n",
            "max_pooling2d (MaxPooling2D) (None, 112, 112, 16)      0         \n",
            "_________________________________________________________________\n",
            "conv2d_2 (Conv2D)            (None, 112, 112, 32)      2080      \n",
            "_________________________________________________________________\n",
            "max_pooling2d_1 (MaxPooling2 (None, 56, 56, 32)        0         \n",
            "_________________________________________________________________\n",
            "conv2d_3 (Conv2D)            (None, 56, 56, 64)        8256      \n",
            "_________________________________________________________________\n",
            "max_pooling2d_2 (MaxPooling2 (None, 28, 28, 64)        0         \n",
            "_________________________________________________________________\n",
            "flatten_1 (Flatten)          (None, 50176)             0         \n",
            "_________________________________________________________________\n",
            "dense_1 (Dense)              (None, 500)               25088500  \n",
            "_________________________________________________________________\n",
            "dense_2 (Dense)              (None, 2)                 1002      \n",
            "=================================================================\n",
            "Total params: 25,100,046\n",
            "Trainable params: 25,100,046\n",
            "Non-trainable params: 0\n",
            "_________________________________________________________________\n"
          ],
          "name": "stdout"
        }
      ]
    },
    {
      "cell_type": "code",
      "metadata": {
        "id": "G0tkaLrLB3lK"
      },
      "source": [
        "# tell the model what cost and optimization method to use\n",
        "model.compile(\n",
        "  loss='categorical_crossentropy',\n",
        "  optimizer='adam',\n",
        "  metrics=['accuracy']\n",
        ")\n"
      ],
      "execution_count": 53,
      "outputs": []
    },
    {
      "cell_type": "code",
      "metadata": {
        "id": "q0v4GVwUB3lM"
      },
      "source": [
        "# Use the Image Data Generator to import the images from the dataset\n",
        "from tensorflow.keras.preprocessing.image import ImageDataGenerator\n",
        "\n",
        "train_datagen = ImageDataGenerator(rescale = 1./255,\n",
        "                                   shear_range = 0.2,\n",
        "                                   zoom_range = 0.2,\n",
        "                                   horizontal_flip = True)\n",
        "\n",
        "test_datagen = ImageDataGenerator(rescale = 1./255)"
      ],
      "execution_count": 34,
      "outputs": []
    },
    {
      "cell_type": "code",
      "metadata": {
        "colab": {
          "base_uri": "https://localhost:8080/"
        },
        "id": "Df0rvEvrB3lM",
        "outputId": "bee55332-a0df-48c3-87ab-1bfe5460e16e"
      },
      "source": [
        "# Make sure you provide the same target size as initialied for the image size\n",
        "\n",
        "training_set = train_datagen.flow_from_directory('/content/drive/My Drive/Dataset/Train',\n",
        "                                                 target_size = (224, 224),\n",
        "                                                 batch_size = 32,\n",
        "                                                 class_mode = 'categorical')"
      ],
      "execution_count": 42,
      "outputs": [
        {
          "output_type": "stream",
          "text": [
            "Found 416 images belonging to 2 classes.\n"
          ],
          "name": "stdout"
        }
      ]
    },
    {
      "cell_type": "code",
      "metadata": {
        "colab": {
          "base_uri": "https://localhost:8080/"
        },
        "id": "sSE-fIxXB3lM",
        "outputId": "8f26b2d3-d187-4b6c-a65d-b54d4acf3087"
      },
      "source": [
        "training_set"
      ],
      "execution_count": 49,
      "outputs": [
        {
          "output_type": "execute_result",
          "data": {
            "text/plain": [
              "<tensorflow.python.keras.preprocessing.image.DirectoryIterator at 0x7ff994043610>"
            ]
          },
          "metadata": {
            "tags": []
          },
          "execution_count": 49
        }
      ]
    },
    {
      "cell_type": "code",
      "metadata": {
        "colab": {
          "base_uri": "https://localhost:8080/"
        },
        "id": "8kfA3wtGB3lN",
        "outputId": "f33abf5e-de7e-43f5-d04b-6d8020297a2c"
      },
      "source": [
        "test_set = test_datagen.flow_from_directory('/content/drive/My Drive/Dataset/Test',\n",
        "                                            target_size = (224, 224),\n",
        "                                            batch_size = 32,\n",
        "                                            class_mode = 'categorical')"
      ],
      "execution_count": 48,
      "outputs": [
        {
          "output_type": "stream",
          "text": [
            "Found 134 images belonging to 2 classes.\n"
          ],
          "name": "stdout"
        }
      ]
    },
    {
      "cell_type": "code",
      "metadata": {
        "scrolled": true,
        "colab": {
          "base_uri": "https://localhost:8080/"
        },
        "id": "dNrCMP8pB3lO",
        "outputId": "d0a72e8a-d39d-46c5-bdb2-5ebf5cc8d1ce"
      },
      "source": [
        "# fit the model\n",
        "# Run the cell. It will take some time to execute\n",
        "r = model.fit(\n",
        "  training_set,\n",
        "  validation_data=test_set,\n",
        "  epochs=10, ## Reducing epocs to save time, Should try with 50 epoch for better results\n",
        "  steps_per_epoch=len(training_set),\n",
        "  validation_steps=len(test_set)\n",
        ")"
      ],
      "execution_count": 56,
      "outputs": [
        {
          "output_type": "stream",
          "text": [
            "Epoch 1/10\n",
            "13/13 [==============================] - 361s 28s/step - loss: 0.9621 - accuracy: 0.6274 - val_loss: 0.7033 - val_accuracy: 0.6791\n",
            "Epoch 2/10\n",
            "13/13 [==============================] - 350s 27s/step - loss: 0.6407 - accuracy: 0.6947 - val_loss: 0.7087 - val_accuracy: 0.6716\n",
            "Epoch 3/10\n",
            "13/13 [==============================] - 351s 27s/step - loss: 0.4264 - accuracy: 0.8029 - val_loss: 0.5994 - val_accuracy: 0.7015\n",
            "Epoch 4/10\n",
            "13/13 [==============================] - 351s 27s/step - loss: 0.3440 - accuracy: 0.8293 - val_loss: 0.4316 - val_accuracy: 0.8060\n",
            "Epoch 5/10\n",
            "13/13 [==============================] - 350s 27s/step - loss: 0.2994 - accuracy: 0.8894 - val_loss: 0.3809 - val_accuracy: 0.8209\n",
            "Epoch 6/10\n",
            "13/13 [==============================] - 349s 27s/step - loss: 0.2683 - accuracy: 0.9014 - val_loss: 0.3848 - val_accuracy: 0.8358\n",
            "Epoch 7/10\n",
            "13/13 [==============================] - 349s 27s/step - loss: 0.2665 - accuracy: 0.9111 - val_loss: 0.3578 - val_accuracy: 0.8731\n",
            "Epoch 8/10\n",
            "13/13 [==============================] - 350s 27s/step - loss: 0.2531 - accuracy: 0.9159 - val_loss: 0.4425 - val_accuracy: 0.7537\n",
            "Epoch 9/10\n",
            "13/13 [==============================] - 351s 27s/step - loss: 0.2368 - accuracy: 0.9207 - val_loss: 0.3343 - val_accuracy: 0.8731\n",
            "Epoch 10/10\n",
            "13/13 [==============================] - 350s 27s/step - loss: 0.2515 - accuracy: 0.9087 - val_loss: 0.6327 - val_accuracy: 0.6940\n"
          ],
          "name": "stdout"
        }
      ]
    },
    {
      "cell_type": "code",
      "metadata": {
        "id": "lrI1LJoIB3lT"
      },
      "source": [
        ""
      ],
      "execution_count": null,
      "outputs": []
    },
    {
      "cell_type": "code",
      "metadata": {
        "colab": {
          "base_uri": "https://localhost:8080/",
          "height": 531
        },
        "id": "igIMQ2bgB3lU",
        "outputId": "779f9687-77ae-4877-8b78-1c35f3e203f2"
      },
      "source": [
        "# plot the loss\n",
        "plt.plot(r.history['loss'], label='train loss')\n",
        "plt.plot(r.history['val_loss'], label='val loss')\n",
        "plt.legend()\n",
        "plt.show()\n",
        "plt.savefig('LossVal_loss')\n",
        "\n",
        "# plot the accuracy\n",
        "plt.plot(r.history['accuracy'], label='train acc')\n",
        "plt.plot(r.history['val_accuracy'], label='val acc')\n",
        "plt.legend()\n",
        "plt.show()\n",
        "plt.savefig('AccVal_acc')"
      ],
      "execution_count": 57,
      "outputs": [
        {
          "output_type": "display_data",
          "data": {
            "image/png": "[encoded data removed]",
            "text/plain": [
              "<Figure size 432x288 with 1 Axes>"
            ]
          },
          "metadata": {
            "tags": [],
            "needs_background": "light"
          }
        },
        {
          "output_type": "display_data",
          "data": {
            "image/png": "[encoded data removed]",
            "text/plain": [
              "<Figure size 432x288 with 1 Axes>"
            ]
          },
          "metadata": {
            "tags": [],
            "needs_background": "light"
          }
        },
        {
          "output_type": "display_data",
          "data": {
            "text/plain": [
              "<Figure size 432x288 with 0 Axes>"
            ]
          },
          "metadata": {
            "tags": []
          }
        }
      ]
    },
    {
      "cell_type": "code",
      "metadata": {
        "id": "4wHHOoVVB3lU"
      },
      "source": [
        "# save it as a h5 file\n",
        "\n",
        "\n",
        "from tensorflow.keras.models import load_model\n",
        "\n",
        "model.save('model_vgg19.h5')"
      ],
      "execution_count": 58,
      "outputs": []
    },
    {
      "cell_type": "code",
      "metadata": {
        "id": "DhrjN6yQB3lW"
      },
      "source": [
        ""
      ],
      "execution_count": null,
      "outputs": []
    },
    {
      "cell_type": "code",
      "metadata": {
        "id": "EZACwawkB3lW"
      },
      "source": [
        "\n",
        "y_pred = model.predict(test_set)\n"
      ],
      "execution_count": 59,
      "outputs": []
    },
    {
      "cell_type": "code",
      "metadata": {
        "colab": {
          "base_uri": "https://localhost:8080/"
        },
        "id": "2ruSCaqQB3lX",
        "outputId": "d68c8178-59b2-4e8c-d3ff-576c585668a8"
      },
      "source": [
        "y_pred"
      ],
      "execution_count": 60,
      "outputs": [
        {
          "output_type": "execute_result",
          "data": {
            "text/plain": [
              "array([[2.23308682e-01, 7.76691318e-01],\n",
              "       [9.10761476e-01, 8.92385393e-02],\n",
              "       [9.44213420e-02, 9.05578673e-01],\n",
              "       [5.70933580e-01, 4.29066390e-01],\n",
              "       [4.10000011e-02, 9.58999991e-01],\n",
              "       [4.24061358e-01, 5.75938642e-01],\n",
              "       [7.57805780e-02, 9.24219370e-01],\n",
              "       [5.10275587e-02, 9.48972464e-01],\n",
              "       [8.80366683e-01, 1.19633391e-01],\n",
              "       [2.90146321e-02, 9.70985413e-01],\n",
              "       [9.86292839e-01, 1.37071488e-02],\n",
              "       [2.03569368e-01, 7.96430647e-01],\n",
              "       [5.83123043e-02, 9.41687703e-01],\n",
              "       [2.27470264e-01, 7.72529721e-01],\n",
              "       [2.38242939e-01, 7.61757076e-01],\n",
              "       [5.54920770e-02, 9.44507897e-01],\n",
              "       [8.73785138e-01, 1.26214832e-01],\n",
              "       [9.82468605e-01, 1.75313503e-02],\n",
              "       [1.20719247e-01, 8.79280746e-01],\n",
              "       [2.76817471e-01, 7.23182559e-01],\n",
              "       [5.18153191e-01, 4.81846839e-01],\n",
              "       [9.86666143e-01, 1.33338394e-02],\n",
              "       [5.15605092e-01, 4.84394908e-01],\n",
              "       [7.33328938e-01, 2.66671002e-01],\n",
              "       [4.33777571e-02, 9.56622243e-01],\n",
              "       [8.25262070e-02, 9.17473793e-01],\n",
              "       [7.44904652e-02, 9.25509512e-01],\n",
              "       [5.56713939e-01, 4.43286091e-01],\n",
              "       [3.15711766e-01, 6.84288204e-01],\n",
              "       [1.68760538e-01, 8.31239402e-01],\n",
              "       [5.09647392e-02, 9.49035227e-01],\n",
              "       [8.86903286e-01, 1.13096714e-01],\n",
              "       [4.00022604e-02, 9.59997714e-01],\n",
              "       [1.01668619e-01, 8.98331404e-01],\n",
              "       [6.29821539e-01, 3.70178461e-01],\n",
              "       [3.02498564e-02, 9.69750106e-01],\n",
              "       [2.32934788e-01, 7.67065167e-01],\n",
              "       [6.27231076e-02, 9.37276959e-01],\n",
              "       [6.98784888e-02, 9.30121541e-01],\n",
              "       [8.53984416e-01, 1.46015540e-01],\n",
              "       [9.14638400e-01, 8.53615478e-02],\n",
              "       [4.95382428e-01, 5.04617572e-01],\n",
              "       [1.07526354e-01, 8.92473638e-01],\n",
              "       [7.89871439e-02, 9.21012819e-01],\n",
              "       [3.41303274e-02, 9.65869665e-01],\n",
              "       [3.21451016e-02, 9.67854857e-01],\n",
              "       [1.82501793e-01, 8.17498267e-01],\n",
              "       [8.47624302e-01, 1.52375713e-01],\n",
              "       [2.52355725e-01, 7.47644305e-01],\n",
              "       [9.63308141e-02, 9.03669178e-01],\n",
              "       [3.52626331e-02, 9.64737296e-01],\n",
              "       [5.74563861e-01, 4.25436169e-01],\n",
              "       [2.67021377e-02, 9.73297834e-01],\n",
              "       [2.92442411e-01, 7.07557559e-01],\n",
              "       [5.57775021e-01, 4.42225009e-01],\n",
              "       [5.52280843e-01, 4.47719187e-01],\n",
              "       [9.03859615e-01, 9.61403698e-02],\n",
              "       [1.61757320e-01, 8.38242710e-01],\n",
              "       [1.48150817e-01, 8.51849198e-01],\n",
              "       [1.84224799e-01, 8.15775156e-01],\n",
              "       [8.83835018e-01, 1.16164953e-01],\n",
              "       [9.00502726e-02, 9.09949720e-01],\n",
              "       [4.06430572e-01, 5.93569398e-01],\n",
              "       [1.12239018e-01, 8.87760997e-01],\n",
              "       [4.67931628e-01, 5.32068372e-01],\n",
              "       [5.27889550e-01, 4.72110450e-01],\n",
              "       [9.42731082e-01, 5.72689176e-02],\n",
              "       [2.23856166e-01, 7.76143789e-01],\n",
              "       [1.81803182e-02, 9.81819630e-01],\n",
              "       [2.02079996e-01, 7.97919989e-01],\n",
              "       [3.11195310e-02, 9.68880475e-01],\n",
              "       [8.15273941e-01, 1.84726074e-01],\n",
              "       [1.60879344e-01, 8.39120686e-01],\n",
              "       [1.76216830e-02, 9.82378304e-01],\n",
              "       [6.45798862e-01, 3.54201198e-01],\n",
              "       [8.07265222e-01, 1.92734748e-01],\n",
              "       [8.83093894e-01, 1.16906084e-01],\n",
              "       [9.34967473e-02, 9.06503260e-01],\n",
              "       [1.08357035e-01, 8.91642928e-01],\n",
              "       [8.63669991e-01, 1.36330009e-01],\n",
              "       [9.35718536e-01, 6.42815307e-02],\n",
              "       [2.63600349e-01, 7.36399710e-01],\n",
              "       [9.90423083e-01, 9.57695115e-03],\n",
              "       [6.56322017e-02, 9.34367776e-01],\n",
              "       [5.45426846e-01, 4.54573214e-01],\n",
              "       [2.79132098e-01, 7.20867872e-01],\n",
              "       [2.11757794e-01, 7.88242221e-01],\n",
              "       [2.30439276e-01, 7.69560695e-01],\n",
              "       [7.97823295e-02, 9.20217693e-01],\n",
              "       [4.76944558e-02, 9.52305555e-01],\n",
              "       [6.40575737e-02, 9.35942471e-01],\n",
              "       [5.20117693e-02, 9.47988272e-01],\n",
              "       [9.97562289e-01, 2.43771006e-03],\n",
              "       [1.12323552e-01, 8.87676418e-01],\n",
              "       [9.06832218e-01, 9.31677520e-02],\n",
              "       [9.40176904e-01, 5.98230921e-02],\n",
              "       [9.79750812e-01, 2.02491265e-02],\n",
              "       [7.77617395e-01, 2.22382590e-01],\n",
              "       [9.98047113e-01, 1.95282197e-03],\n",
              "       [2.23694652e-01, 7.76305318e-01],\n",
              "       [2.33967930e-01, 7.66032040e-01],\n",
              "       [9.27708149e-01, 7.22918585e-02],\n",
              "       [5.07490411e-02, 9.49250996e-01],\n",
              "       [2.11854160e-01, 7.88145840e-01],\n",
              "       [4.86454874e-01, 5.13545096e-01],\n",
              "       [1.02599889e-01, 8.97400081e-01],\n",
              "       [1.14522099e-01, 8.85477841e-01],\n",
              "       [9.99428689e-01, 5.71228797e-04],\n",
              "       [6.94551289e-01, 3.05448681e-01],\n",
              "       [9.29766595e-01, 7.02333823e-02],\n",
              "       [4.45234738e-02, 9.55476522e-01],\n",
              "       [9.22799170e-01, 7.72008672e-02],\n",
              "       [1.47361815e-01, 8.52638125e-01],\n",
              "       [4.90736477e-02, 9.50926304e-01],\n",
              "       [2.03960612e-01, 7.96039402e-01],\n",
              "       [5.70548117e-01, 4.29451883e-01],\n",
              "       [7.50596523e-01, 2.49403551e-01],\n",
              "       [3.75809632e-02, 9.62419033e-01],\n",
              "       [6.11981452e-02, 9.38801885e-01],\n",
              "       [6.57013953e-02, 9.34298635e-01],\n",
              "       [2.31820233e-02, 9.76817966e-01],\n",
              "       [2.45744050e-01, 7.54255891e-01],\n",
              "       [9.83909905e-01, 1.60901658e-02],\n",
              "       [2.33393908e-02, 9.76660550e-01],\n",
              "       [9.88831282e-01, 1.11687165e-02],\n",
              "       [9.17283118e-01, 8.27168748e-02],\n",
              "       [9.42859232e-01, 5.71408384e-02],\n",
              "       [2.84689590e-02, 9.71531034e-01],\n",
              "       [8.68234575e-01, 1.31765485e-01],\n",
              "       [6.76853657e-01, 3.23146343e-01],\n",
              "       [3.19902331e-01, 6.80097699e-01],\n",
              "       [2.03369930e-02, 9.79662955e-01],\n",
              "       [6.43255413e-02, 9.35674489e-01],\n",
              "       [2.99419388e-02, 9.70058024e-01]], dtype=float32)"
            ]
          },
          "metadata": {
            "tags": []
          },
          "execution_count": 60
        }
      ]
    },
    {
      "cell_type": "code",
      "metadata": {
        "id": "SjptUNarB3lX"
      },
      "source": [
        "import numpy as np\n",
        "y_pred = np.argmax(y_pred, axis=1)"
      ],
      "execution_count": 61,
      "outputs": []
    },
    {
      "cell_type": "code",
      "metadata": {
        "colab": {
          "base_uri": "https://localhost:8080/"
        },
        "id": "2CCn18jqB3lX",
        "outputId": "28478b15-1261-45a0-bab2-e334307f9801"
      },
      "source": [
        "y_pred"
      ],
      "execution_count": 62,
      "outputs": [
        {
          "output_type": "execute_result",
          "data": {
            "text/plain": [
              "array([1, 0, 1, 0, 1, 1, 1, 1, 0, 1, 0, 1, 1, 1, 1, 1, 0, 0, 1, 1, 0, 0,\n",
              "       0, 0, 1, 1, 1, 0, 1, 1, 1, 0, 1, 1, 0, 1, 1, 1, 1, 0, 0, 1, 1, 1,\n",
              "       1, 1, 1, 0, 1, 1, 1, 0, 1, 1, 0, 0, 0, 1, 1, 1, 0, 1, 1, 1, 1, 0,\n",
              "       0, 1, 1, 1, 1, 0, 1, 1, 0, 0, 0, 1, 1, 0, 0, 1, 0, 1, 0, 1, 1, 1,\n",
              "       1, 1, 1, 1, 0, 1, 0, 0, 0, 0, 0, 1, 1, 0, 1, 1, 1, 1, 1, 0, 0, 0,\n",
              "       1, 0, 1, 1, 1, 0, 0, 1, 1, 1, 1, 1, 0, 1, 0, 0, 0, 1, 0, 0, 1, 1,\n",
              "       1, 1])"
            ]
          },
          "metadata": {
            "tags": []
          },
          "execution_count": 62
        }
      ]
    },
    {
      "cell_type": "code",
      "metadata": {
        "id": "1R5OK3ifB3lY"
      },
      "source": [
        ""
      ],
      "execution_count": null,
      "outputs": []
    },
    {
      "cell_type": "code",
      "metadata": {
        "id": "6PQgmN-HB3lY"
      },
      "source": [
        "from tensorflow.keras.models import load_model\n",
        "from tensorflow.keras.preprocessing import image"
      ],
      "execution_count": 63,
      "outputs": []
    },
    {
      "cell_type": "code",
      "metadata": {
        "id": "gpxLQGnqB3lY"
      },
      "source": [
        "model=load_model('model_vgg19.h5')"
      ],
      "execution_count": 64,
      "outputs": []
    },
    {
      "cell_type": "code",
      "metadata": {
        "id": "eu88ZT5wB3lY"
      },
      "source": [
        ""
      ],
      "execution_count": null,
      "outputs": []
    },
    {
      "cell_type": "code",
      "metadata": {
        "id": "7CEkK4N3B3lY"
      },
      "source": [
        "img=image.load_img('/content/drive/My Drive/Dataset/Test/Uninfected/2.png',target_size=(224,224))\n",
        "\n"
      ],
      "execution_count": 65,
      "outputs": []
    },
    {
      "cell_type": "code",
      "metadata": {
        "colab": {
          "base_uri": "https://localhost:8080/"
        },
        "id": "lCV_XOwkB3lY",
        "outputId": "763fb14a-56d2-47e0-cf27-d230aa04c30b"
      },
      "source": [
        "x=image.img_to_array(img)\n",
        "x"
      ],
      "execution_count": 66,
      "outputs": [
        {
          "output_type": "execute_result",
          "data": {
            "text/plain": [
              "array([[[0., 0., 0.],\n",
              "        [0., 0., 0.],\n",
              "        [0., 0., 0.],\n",
              "        ...,\n",
              "        [0., 0., 0.],\n",
              "        [0., 0., 0.],\n",
              "        [0., 0., 0.]],\n",
              "\n",
              "       [[0., 0., 0.],\n",
              "        [0., 0., 0.],\n",
              "        [0., 0., 0.],\n",
              "        ...,\n",
              "        [0., 0., 0.],\n",
              "        [0., 0., 0.],\n",
              "        [0., 0., 0.]],\n",
              "\n",
              "       [[0., 0., 0.],\n",
              "        [0., 0., 0.],\n",
              "        [0., 0., 0.],\n",
              "        ...,\n",
              "        [0., 0., 0.],\n",
              "        [0., 0., 0.],\n",
              "        [0., 0., 0.]],\n",
              "\n",
              "       ...,\n",
              "\n",
              "       [[0., 0., 0.],\n",
              "        [0., 0., 0.],\n",
              "        [0., 0., 0.],\n",
              "        ...,\n",
              "        [0., 0., 0.],\n",
              "        [0., 0., 0.],\n",
              "        [0., 0., 0.]],\n",
              "\n",
              "       [[0., 0., 0.],\n",
              "        [0., 0., 0.],\n",
              "        [0., 0., 0.],\n",
              "        ...,\n",
              "        [0., 0., 0.],\n",
              "        [0., 0., 0.],\n",
              "        [0., 0., 0.]],\n",
              "\n",
              "       [[0., 0., 0.],\n",
              "        [0., 0., 0.],\n",
              "        [0., 0., 0.],\n",
              "        ...,\n",
              "        [0., 0., 0.],\n",
              "        [0., 0., 0.],\n",
              "        [0., 0., 0.]]], dtype=float32)"
            ]
          },
          "metadata": {
            "tags": []
          },
          "execution_count": 66
        }
      ]
    },
    {
      "cell_type": "code",
      "metadata": {
        "colab": {
          "base_uri": "https://localhost:8080/"
        },
        "id": "XJBX6tI-B3lZ",
        "outputId": "c7872ec4-7f0c-4abf-a8bf-1dcabd192e19"
      },
      "source": [
        "x.shape"
      ],
      "execution_count": 67,
      "outputs": [
        {
          "output_type": "execute_result",
          "data": {
            "text/plain": [
              "(224, 224, 3)"
            ]
          },
          "metadata": {
            "tags": []
          },
          "execution_count": 67
        }
      ]
    },
    {
      "cell_type": "code",
      "metadata": {
        "id": "exfkBdMxB3la"
      },
      "source": [
        "x=x/255"
      ],
      "execution_count": 68,
      "outputs": []
    },
    {
      "cell_type": "code",
      "metadata": {
        "colab": {
          "base_uri": "https://localhost:8080/"
        },
        "id": "gPzKDDbOB3la",
        "outputId": "b4419b87-20e7-4b91-f642-58ca3e7fdde6"
      },
      "source": [
        "x=np.expand_dims(x,axis=0)\n",
        "img_data=preprocess_input(x)\n",
        "img_data.shape"
      ],
      "execution_count": 69,
      "outputs": [
        {
          "output_type": "execute_result",
          "data": {
            "text/plain": [
              "(1, 224, 224, 3)"
            ]
          },
          "metadata": {
            "tags": []
          },
          "execution_count": 69
        }
      ]
    },
    {
      "cell_type": "code",
      "metadata": {
        "colab": {
          "base_uri": "https://localhost:8080/"
        },
        "id": "y6a67MMtB3lb",
        "outputId": "1ffdfaca-74a7-4f0a-eedb-e346894985ca"
      },
      "source": [
        "model.predict(img_data)"
      ],
      "execution_count": 70,
      "outputs": [
        {
          "output_type": "execute_result",
          "data": {
            "text/plain": [
              "array([[0.01446233, 0.9855377 ]], dtype=float32)"
            ]
          },
          "metadata": {
            "tags": []
          },
          "execution_count": 70
        }
      ]
    },
    {
      "cell_type": "code",
      "metadata": {
        "id": "9Gw5IRl8B3lb"
      },
      "source": [
        "a=np.argmax(model.predict(img_data), axis=1)"
      ],
      "execution_count": 71,
      "outputs": []
    },
    {
      "cell_type": "code",
      "metadata": {
        "colab": {
          "base_uri": "https://localhost:8080/"
        },
        "id": "iKa1Xxl8B3lb",
        "outputId": "4a6c35cf-29fe-4130-d3e7-2df104fb80da"
      },
      "source": [
        "if(a==1):\n",
        "    print(\"Uninfected\")\n",
        "else:\n",
        "    print(\"Infected\")"
      ],
      "execution_count": 72,
      "outputs": [
        {
          "output_type": "stream",
          "text": [
            "Uninfected\n"
          ],
          "name": "stdout"
        }
      ]
    },
    {
      "cell_type": "code",
      "metadata": {
        "id": "Viuuq-LGB3lb"
      },
      "source": [
        ""
      ],
      "execution_count": null,
      "outputs": []
    },
    {
      "cell_type": "code",
      "metadata": {
        "id": "hecv2rSTB3lc"
      },
      "source": [
        ""
      ],
      "execution_count": null,
      "outputs": []
    }
  ]
}