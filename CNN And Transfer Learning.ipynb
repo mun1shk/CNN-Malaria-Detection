{
  "nbformat": 4,
  "nbformat_minor": 0,
  "metadata": {
    "kernelspec": {
      "display_name": "Python 3",
      "language": "python",
      "name": "python3"
    },
    "language_info": {
      "codemirror_mode": {
        "name": "ipython",
        "version": 3
      },
      "file_extension": ".py",
      "mimetype": "text/x-python",
      "name": "python",
      "nbconvert_exporter": "python",
      "pygments_lexer": "ipython3",
      "version": "3.7.4"
    },
    "colab": {
      "name": "CNN And Transfer Learning.ipynb",
      "provenance": []
    },
    "accelerator": "GPU"
  },
  "cells": [
    {
      "cell_type": "markdown",
      "metadata": {
        "id": "TN2dDkPfB3k5"
      },
      "source": [
        "## Creating CNN Using Scratch And Transfer Learning"
      ]
    },
    {
      "cell_type": "markdown",
      "metadata": {
        "id": "GwKs7W66B3k8"
      },
      "source": [
        "Please download the dataset from the below url"
      ]
    },
    {
      "cell_type": "code",
      "metadata": {
        "id": "lfM7f9jMB3k-"
      },
      "source": [
        "# import the libraries as shown below\n",
        "\n",
        "from tensorflow.keras.layers import Input, Lambda, Dense, Flatten,Conv2D\n",
        "from tensorflow.keras.models import Model\n",
        "from tensorflow.keras.applications.vgg19 import VGG19\n",
        "from tensorflow.keras.applications.resnet50 import preprocess_input\n",
        "from tensorflow.keras.preprocessing import image\n",
        "from tensorflow.keras.preprocessing.image import ImageDataGenerator,load_img\n",
        "from tensorflow.keras.models import Sequential\n",
        "import numpy as np\n",
        "from glob import glob\n",
        "import matplotlib.pyplot as plt"
      ],
      "execution_count": 2,
      "outputs": []
    },
    {
      "cell_type": "code",
      "metadata": {
        "colab": {
          "base_uri": "https://localhost:8080/"
        },
        "id": "VNxg77eiK6P9",
        "outputId": "d6eebc87-ad02-4399-a33f-f747861bf602"
      },
      "source": [
        "from google.colab import drive\n",
        "drive.mount('/content/drive')"
      ],
      "execution_count": 3,
      "outputs": [
        {
          "output_type": "stream",
          "text": [
            "Mounted at /content/drive\n"
          ],
          "name": "stdout"
        }
      ]
    },
    {
      "cell_type": "code",
      "metadata": {
        "id": "9OxspchNB3lA"
      },
      "source": [
        "# re-size all the images to this\n",
        "IMAGE_SIZE = [224, 224]\n",
        "\n",
        "train_path = 'cell_images/Train'\n",
        "valid_path = 'cell_images/Test'\n"
      ],
      "execution_count": 5,
      "outputs": []
    },
    {
      "cell_type": "code",
      "metadata": {
        "colab": {
          "base_uri": "https://localhost:8080/"
        },
        "id": "7-9l-2POB3lC",
        "outputId": "4b017af2-f33c-41ef-ca93-e7ce6097bd50"
      },
      "source": [
        "# Import the Vgg 19 library as shown below and add preprocessing layer to the front of VGG\n",
        "# Here we will be using imagenet weights\n",
        "\n",
        "mobilnet = VGG19(input_shape=IMAGE_SIZE + [3], weights='imagenet', include_top=False)\n",
        "\n",
        "\n"
      ],
      "execution_count": 6,
      "outputs": [
        {
          "output_type": "stream",
          "text": [
            "Downloading data from https://storage.googleapis.com/tensorflow/keras-applications/vgg19/vgg19_weights_tf_dim_ordering_tf_kernels_notop.h5\n",
            "80142336/80134624 [==============================] - 1s 0us/step\n"
          ],
          "name": "stdout"
        }
      ]
    },
    {
      "cell_type": "code",
      "metadata": {
        "id": "AOaKRJWOB3lD"
      },
      "source": [
        "# don't train existing weights\n",
        "for layer in mobilnet.layers:\n",
        "    layer.trainable = False"
      ],
      "execution_count": 7,
      "outputs": []
    },
    {
      "cell_type": "code",
      "metadata": {
        "id": "viinaDPiB3lE"
      },
      "source": [
        "  # useful for getting number of output classes\n",
        "folders = glob('/content/drive/My Drive/Dataset/Train/*')\n",
        "#folders=2"
      ],
      "execution_count": 8,
      "outputs": []
    },
    {
      "cell_type": "code",
      "metadata": {
        "colab": {
          "base_uri": "https://localhost:8080/"
        },
        "id": "TJGqnCuZB3lE",
        "outputId": "ab3f7550-4d26-4a2c-8ca6-a1f0cc5ac381"
      },
      "source": [
        "folders"
      ],
      "execution_count": 9,
      "outputs": [
        {
          "output_type": "execute_result",
          "data": {
            "text/plain": [
              "['/content/drive/My Drive/Dataset/Train/Uninfected',\n",
              " '/content/drive/My Drive/Dataset/Train/Parasite']"
            ]
          },
          "metadata": {
            "tags": []
          },
          "execution_count": 9
        }
      ]
    },
    {
      "cell_type": "code",
      "metadata": {
        "id": "8b_9cq2rB3lG"
      },
      "source": [
        "# our layers - you can add more if you want\n",
        "x = Flatten()(mobilnet.output)"
      ],
      "execution_count": 10,
      "outputs": []
    },
    {
      "cell_type": "code",
      "metadata": {
        "id": "vLiJ0sbXB3lI"
      },
      "source": [
        "prediction = Dense(len(folders), activation='softmax')(x)\n",
        "#prediction = Dense((folders), activation='softmax')(x)\n",
        "# create a model object\n",
        "model = Model(inputs=mobilnet.input, outputs=prediction)"
      ],
      "execution_count": 11,
      "outputs": []
    },
    {
      "cell_type": "code",
      "metadata": {
        "colab": {
          "base_uri": "https://localhost:8080/"
        },
        "id": "tRRrxwz4B3lJ",
        "outputId": "6ea6fa4c-0502-42a6-cccd-df454446e7d1"
      },
      "source": [
        "\n",
        "# view the structure of the model\n",
        "model.summary()\n"
      ],
      "execution_count": 12,
      "outputs": [
        {
          "output_type": "stream",
          "text": [
            "Model: \"model\"\n",
            "_________________________________________________________________\n",
            "Layer (type)                 Output Shape              Param #   \n",
            "=================================================================\n",
            "input_1 (InputLayer)         [(None, 224, 224, 3)]     0         \n",
            "_________________________________________________________________\n",
            "block1_conv1 (Conv2D)        (None, 224, 224, 64)      1792      \n",
            "_________________________________________________________________\n",
            "block1_conv2 (Conv2D)        (None, 224, 224, 64)      36928     \n",
            "_________________________________________________________________\n",
            "block1_pool (MaxPooling2D)   (None, 112, 112, 64)      0         \n",
            "_________________________________________________________________\n",
            "block2_conv1 (Conv2D)        (None, 112, 112, 128)     73856     \n",
            "_________________________________________________________________\n",
            "block2_conv2 (Conv2D)        (None, 112, 112, 128)     147584    \n",
            "_________________________________________________________________\n",
            "block2_pool (MaxPooling2D)   (None, 56, 56, 128)       0         \n",
            "_________________________________________________________________\n",
            "block3_conv1 (Conv2D)        (None, 56, 56, 256)       295168    \n",
            "_________________________________________________________________\n",
            "block3_conv2 (Conv2D)        (None, 56, 56, 256)       590080    \n",
            "_________________________________________________________________\n",
            "block3_conv3 (Conv2D)        (None, 56, 56, 256)       590080    \n",
            "_________________________________________________________________\n",
            "block3_conv4 (Conv2D)        (None, 56, 56, 256)       590080    \n",
            "_________________________________________________________________\n",
            "block3_pool (MaxPooling2D)   (None, 28, 28, 256)       0         \n",
            "_________________________________________________________________\n",
            "block4_conv1 (Conv2D)        (None, 28, 28, 512)       1180160   \n",
            "_________________________________________________________________\n",
            "block4_conv2 (Conv2D)        (None, 28, 28, 512)       2359808   \n",
            "_________________________________________________________________\n",
            "block4_conv3 (Conv2D)        (None, 28, 28, 512)       2359808   \n",
            "_________________________________________________________________\n",
            "block4_conv4 (Conv2D)        (None, 28, 28, 512)       2359808   \n",
            "_________________________________________________________________\n",
            "block4_pool (MaxPooling2D)   (None, 14, 14, 512)       0         \n",
            "_________________________________________________________________\n",
            "block5_conv1 (Conv2D)        (None, 14, 14, 512)       2359808   \n",
            "_________________________________________________________________\n",
            "block5_conv2 (Conv2D)        (None, 14, 14, 512)       2359808   \n",
            "_________________________________________________________________\n",
            "block5_conv3 (Conv2D)        (None, 14, 14, 512)       2359808   \n",
            "_________________________________________________________________\n",
            "block5_conv4 (Conv2D)        (None, 14, 14, 512)       2359808   \n",
            "_________________________________________________________________\n",
            "block5_pool (MaxPooling2D)   (None, 7, 7, 512)         0         \n",
            "_________________________________________________________________\n",
            "flatten (Flatten)            (None, 25088)             0         \n",
            "_________________________________________________________________\n",
            "dense (Dense)                (None, 2)                 50178     \n",
            "=================================================================\n",
            "Total params: 20,074,562\n",
            "Trainable params: 50,178\n",
            "Non-trainable params: 20,024,384\n",
            "_________________________________________________________________\n"
          ],
          "name": "stdout"
        }
      ]
    },
    {
      "cell_type": "code",
      "metadata": {
        "id": "RlaRnXKMB3lK"
      },
      "source": [
        "from tensorflow.keras.layers import MaxPooling2D"
      ],
      "execution_count": 13,
      "outputs": []
    },
    {
      "cell_type": "code",
      "metadata": {
        "id": "XAIixUeYB3lK"
      },
      "source": [
        "### Create Model from scratch using CNN\n",
        "# model=Sequential()\n",
        "# model.add(Conv2D(filters=16,kernel_size=2,padding=\"same\",activation=\"relu\",input_shape=(224,224,3)))\n",
        "# model.add(MaxPooling2D(pool_size=2))\n",
        "# model.add(Conv2D(filters=32,kernel_size=2,padding=\"same\",activation =\"relu\"))\n",
        "# model.add(MaxPooling2D(pool_size=2))\n",
        "# model.add(Conv2D(filters=64,kernel_size=2,padding=\"same\",activation=\"relu\"))\n",
        "# model.add(MaxPooling2D(pool_size=2))\n",
        "# model.add(Flatten())\n",
        "# model.add(Dense(500,activation=\"relu\"))\n",
        "# model.add(Dense(2,activation=\"softmax\"))\n",
        "# model.summary()"
      ],
      "execution_count": 14,
      "outputs": []
    },
    {
      "cell_type": "code",
      "metadata": {
        "id": "G0tkaLrLB3lK"
      },
      "source": [
        "# tell the model what cost and optimization method to use\n",
        "model.compile(\n",
        "  loss='categorical_crossentropy',\n",
        "  optimizer='adam',\n",
        "  metrics=['accuracy']\n",
        ")\n"
      ],
      "execution_count": 15,
      "outputs": []
    },
    {
      "cell_type": "code",
      "metadata": {
        "id": "q0v4GVwUB3lM"
      },
      "source": [
        "# Use the Image Data Generator to import the images from the dataset\n",
        "from tensorflow.keras.preprocessing.image import ImageDataGenerator\n",
        "\n",
        "train_datagen = ImageDataGenerator(rescale = 1./255,\n",
        "                                   shear_range = 0.2,\n",
        "                                   zoom_range = 0.2,\n",
        "                                   horizontal_flip = True)\n",
        "\n",
        "test_datagen = ImageDataGenerator(rescale = 1./255)"
      ],
      "execution_count": 16,
      "outputs": []
    },
    {
      "cell_type": "code",
      "metadata": {
        "colab": {
          "base_uri": "https://localhost:8080/"
        },
        "id": "Df0rvEvrB3lM",
        "outputId": "4c00d3f7-0965-46d3-ff5d-f222d2352d79"
      },
      "source": [
        "# Make sure you provide the same target size as initialied for the image size\n",
        "\n",
        "training_set = train_datagen.flow_from_directory('/content/drive/My Drive/Dataset/Train',\n",
        "                                                 target_size = (224, 224),\n",
        "                                                 batch_size = 32,\n",
        "                                                 class_mode = 'categorical')"
      ],
      "execution_count": 17,
      "outputs": [
        {
          "output_type": "stream",
          "text": [
            "Found 416 images belonging to 2 classes.\n"
          ],
          "name": "stdout"
        }
      ]
    },
    {
      "cell_type": "code",
      "metadata": {
        "colab": {
          "base_uri": "https://localhost:8080/"
        },
        "id": "sSE-fIxXB3lM",
        "outputId": "703b60b5-e129-4d82-8981-8eb6651180bb"
      },
      "source": [
        "training_set"
      ],
      "execution_count": 18,
      "outputs": [
        {
          "output_type": "execute_result",
          "data": {
            "text/plain": [
              "<tensorflow.python.keras.preprocessing.image.DirectoryIterator at 0x7f9e30101150>"
            ]
          },
          "metadata": {
            "tags": []
          },
          "execution_count": 18
        }
      ]
    },
    {
      "cell_type": "code",
      "metadata": {
        "colab": {
          "base_uri": "https://localhost:8080/"
        },
        "id": "8kfA3wtGB3lN",
        "outputId": "d0303a92-a911-44d0-9c3a-6cc19744c4b9"
      },
      "source": [
        "test_set = test_datagen.flow_from_directory('/content/drive/My Drive/Dataset/Test',\n",
        "                                            target_size = (224, 224),\n",
        "                                            batch_size = 32,\n",
        "                                            class_mode = 'categorical')"
      ],
      "execution_count": 19,
      "outputs": [
        {
          "output_type": "stream",
          "text": [
            "Found 134 images belonging to 2 classes.\n"
          ],
          "name": "stdout"
        }
      ]
    },
    {
      "cell_type": "code",
      "metadata": {
        "scrolled": true,
        "colab": {
          "base_uri": "https://localhost:8080/"
        },
        "id": "dNrCMP8pB3lO",
        "outputId": "24d0a091-0247-46b5-8bba-c62a0c89e780"
      },
      "source": [
        "# fit the model\n",
        "# Run the cell. It will take some time to execute\n",
        "r = model.fit(\n",
        "  training_set,\n",
        "  validation_data=test_set,\n",
        "  epochs=50, ## Reducing epocs to save time, Should try with 50 epoch for better results\n",
        "  steps_per_epoch=len(training_set),\n",
        "  validation_steps=len(test_set)\n",
        ")"
      ],
      "execution_count": 20,
      "outputs": [
        {
          "output_type": "stream",
          "text": [
            "Epoch 1/50\n",
            "13/13 [==============================] - 139s 8s/step - loss: 1.1818 - accuracy: 0.5649 - val_loss: 0.5920 - val_accuracy: 0.6940\n",
            "Epoch 2/50\n",
            "13/13 [==============================] - 6s 428ms/step - loss: 0.6085 - accuracy: 0.6851 - val_loss: 1.1744 - val_accuracy: 0.3806\n",
            "Epoch 3/50\n",
            "13/13 [==============================] - 6s 425ms/step - loss: 0.5072 - accuracy: 0.7428 - val_loss: 0.5415 - val_accuracy: 0.6791\n",
            "Epoch 4/50\n",
            "13/13 [==============================] - 6s 427ms/step - loss: 0.4450 - accuracy: 0.8029 - val_loss: 0.6364 - val_accuracy: 0.6716\n",
            "Epoch 5/50\n",
            "13/13 [==============================] - 6s 428ms/step - loss: 0.3123 - accuracy: 0.8846 - val_loss: 0.4334 - val_accuracy: 0.7761\n",
            "Epoch 6/50\n",
            "13/13 [==============================] - 6s 432ms/step - loss: 0.2845 - accuracy: 0.8942 - val_loss: 1.0151 - val_accuracy: 0.5597\n",
            "Epoch 7/50\n",
            "13/13 [==============================] - 6s 431ms/step - loss: 0.3003 - accuracy: 0.8534 - val_loss: 0.3689 - val_accuracy: 0.8507\n",
            "Epoch 8/50\n",
            "13/13 [==============================] - 6s 432ms/step - loss: 0.2406 - accuracy: 0.9279 - val_loss: 0.3500 - val_accuracy: 0.8433\n",
            "Epoch 9/50\n",
            "13/13 [==============================] - 6s 427ms/step - loss: 0.2296 - accuracy: 0.9135 - val_loss: 0.4026 - val_accuracy: 0.7910\n",
            "Epoch 10/50\n",
            "13/13 [==============================] - 6s 437ms/step - loss: 0.2193 - accuracy: 0.9279 - val_loss: 0.3042 - val_accuracy: 0.8507\n",
            "Epoch 11/50\n",
            "13/13 [==============================] - 6s 437ms/step - loss: 0.2224 - accuracy: 0.9207 - val_loss: 0.5132 - val_accuracy: 0.7090\n",
            "Epoch 12/50\n",
            "13/13 [==============================] - 6s 434ms/step - loss: 0.2189 - accuracy: 0.9207 - val_loss: 0.3226 - val_accuracy: 0.8806\n",
            "Epoch 13/50\n",
            "13/13 [==============================] - 6s 427ms/step - loss: 0.1841 - accuracy: 0.9423 - val_loss: 0.4555 - val_accuracy: 0.7537\n",
            "Epoch 14/50\n",
            "13/13 [==============================] - 6s 427ms/step - loss: 0.1897 - accuracy: 0.9351 - val_loss: 0.2658 - val_accuracy: 0.9179\n",
            "Epoch 15/50\n",
            "13/13 [==============================] - 6s 427ms/step - loss: 0.2553 - accuracy: 0.8918 - val_loss: 0.8297 - val_accuracy: 0.6418\n",
            "Epoch 16/50\n",
            "13/13 [==============================] - 6s 428ms/step - loss: 0.2646 - accuracy: 0.8894 - val_loss: 0.3256 - val_accuracy: 0.8060\n",
            "Epoch 17/50\n",
            "13/13 [==============================] - 6s 424ms/step - loss: 0.2248 - accuracy: 0.9062 - val_loss: 0.3442 - val_accuracy: 0.8358\n",
            "Epoch 18/50\n",
            "13/13 [==============================] - 6s 427ms/step - loss: 0.1567 - accuracy: 0.9375 - val_loss: 0.2408 - val_accuracy: 0.9030\n",
            "Epoch 19/50\n",
            "13/13 [==============================] - 6s 426ms/step - loss: 0.1956 - accuracy: 0.9255 - val_loss: 0.3564 - val_accuracy: 0.8433\n",
            "Epoch 20/50\n",
            "13/13 [==============================] - 6s 431ms/step - loss: 0.1636 - accuracy: 0.9423 - val_loss: 0.2441 - val_accuracy: 0.9104\n",
            "Epoch 21/50\n",
            "13/13 [==============================] - 6s 432ms/step - loss: 0.1407 - accuracy: 0.9591 - val_loss: 0.2361 - val_accuracy: 0.9179\n",
            "Epoch 22/50\n",
            "13/13 [==============================] - 6s 431ms/step - loss: 0.1232 - accuracy: 0.9712 - val_loss: 0.4348 - val_accuracy: 0.7836\n",
            "Epoch 23/50\n",
            "13/13 [==============================] - 6s 430ms/step - loss: 0.1558 - accuracy: 0.9447 - val_loss: 0.3863 - val_accuracy: 0.8134\n",
            "Epoch 24/50\n",
            "13/13 [==============================] - 6s 432ms/step - loss: 0.1671 - accuracy: 0.9375 - val_loss: 0.2430 - val_accuracy: 0.8881\n",
            "Epoch 25/50\n",
            "13/13 [==============================] - 6s 430ms/step - loss: 0.1608 - accuracy: 0.9399 - val_loss: 0.4672 - val_accuracy: 0.7463\n",
            "Epoch 26/50\n",
            "13/13 [==============================] - 6s 431ms/step - loss: 0.1352 - accuracy: 0.9567 - val_loss: 0.2198 - val_accuracy: 0.9179\n",
            "Epoch 27/50\n",
            "13/13 [==============================] - 6s 431ms/step - loss: 0.1404 - accuracy: 0.9543 - val_loss: 0.2253 - val_accuracy: 0.9179\n",
            "Epoch 28/50\n",
            "13/13 [==============================] - 6s 429ms/step - loss: 0.1442 - accuracy: 0.9591 - val_loss: 0.2232 - val_accuracy: 0.9179\n",
            "Epoch 29/50\n",
            "13/13 [==============================] - 6s 428ms/step - loss: 0.1081 - accuracy: 0.9663 - val_loss: 0.3773 - val_accuracy: 0.8060\n",
            "Epoch 30/50\n",
            "13/13 [==============================] - 6s 429ms/step - loss: 0.0987 - accuracy: 0.9760 - val_loss: 0.2896 - val_accuracy: 0.8806\n",
            "Epoch 31/50\n",
            "13/13 [==============================] - 6s 427ms/step - loss: 0.1037 - accuracy: 0.9688 - val_loss: 0.2501 - val_accuracy: 0.8955\n",
            "Epoch 32/50\n",
            "13/13 [==============================] - 6s 429ms/step - loss: 0.1023 - accuracy: 0.9784 - val_loss: 0.1814 - val_accuracy: 0.9328\n",
            "Epoch 33/50\n",
            "13/13 [==============================] - 6s 429ms/step - loss: 0.0840 - accuracy: 0.9688 - val_loss: 0.1918 - val_accuracy: 0.9328\n",
            "Epoch 34/50\n",
            "13/13 [==============================] - 6s 435ms/step - loss: 0.0998 - accuracy: 0.9712 - val_loss: 0.2466 - val_accuracy: 0.8955\n",
            "Epoch 35/50\n",
            "13/13 [==============================] - 6s 429ms/step - loss: 0.1055 - accuracy: 0.9688 - val_loss: 0.1875 - val_accuracy: 0.9254\n",
            "Epoch 36/50\n",
            "13/13 [==============================] - 6s 427ms/step - loss: 0.0907 - accuracy: 0.9760 - val_loss: 0.2550 - val_accuracy: 0.8806\n",
            "Epoch 37/50\n",
            "13/13 [==============================] - 6s 427ms/step - loss: 0.0963 - accuracy: 0.9736 - val_loss: 0.2389 - val_accuracy: 0.8955\n",
            "Epoch 38/50\n",
            "13/13 [==============================] - 6s 431ms/step - loss: 0.0906 - accuracy: 0.9736 - val_loss: 0.2277 - val_accuracy: 0.9179\n",
            "Epoch 39/50\n",
            "13/13 [==============================] - 6s 431ms/step - loss: 0.0931 - accuracy: 0.9736 - val_loss: 0.1817 - val_accuracy: 0.9254\n",
            "Epoch 40/50\n",
            "13/13 [==============================] - 6s 427ms/step - loss: 0.0859 - accuracy: 0.9760 - val_loss: 0.2565 - val_accuracy: 0.9030\n",
            "Epoch 41/50\n",
            "13/13 [==============================] - 6s 430ms/step - loss: 0.0769 - accuracy: 0.9760 - val_loss: 0.1982 - val_accuracy: 0.9403\n",
            "Epoch 42/50\n",
            "13/13 [==============================] - 6s 427ms/step - loss: 0.0967 - accuracy: 0.9736 - val_loss: 0.3370 - val_accuracy: 0.8433\n",
            "Epoch 43/50\n",
            "13/13 [==============================] - 6s 430ms/step - loss: 0.1198 - accuracy: 0.9471 - val_loss: 0.2655 - val_accuracy: 0.8955\n",
            "Epoch 44/50\n",
            "13/13 [==============================] - 6s 433ms/step - loss: 0.1115 - accuracy: 0.9543 - val_loss: 0.1942 - val_accuracy: 0.9254\n",
            "Epoch 45/50\n",
            "13/13 [==============================] - 6s 432ms/step - loss: 0.0679 - accuracy: 0.9808 - val_loss: 0.2808 - val_accuracy: 0.9030\n",
            "Epoch 46/50\n",
            "13/13 [==============================] - 6s 434ms/step - loss: 0.0679 - accuracy: 0.9808 - val_loss: 0.2052 - val_accuracy: 0.9104\n",
            "Epoch 47/50\n",
            "13/13 [==============================] - 6s 428ms/step - loss: 0.0784 - accuracy: 0.9784 - val_loss: 0.2687 - val_accuracy: 0.9030\n",
            "Epoch 48/50\n",
            "13/13 [==============================] - 6s 432ms/step - loss: 0.0691 - accuracy: 0.9880 - val_loss: 0.2969 - val_accuracy: 0.8806\n",
            "Epoch 49/50\n",
            "13/13 [==============================] - 6s 430ms/step - loss: 0.0791 - accuracy: 0.9760 - val_loss: 0.2702 - val_accuracy: 0.8955\n",
            "Epoch 50/50\n",
            "13/13 [==============================] - 6s 433ms/step - loss: 0.1340 - accuracy: 0.9375 - val_loss: 0.1757 - val_accuracy: 0.9179\n"
          ],
          "name": "stdout"
        }
      ]
    },
    {
      "cell_type": "code",
      "metadata": {
        "id": "lrI1LJoIB3lT"
      },
      "source": [
        ""
      ],
      "execution_count": null,
      "outputs": []
    },
    {
      "cell_type": "code",
      "metadata": {
        "colab": {
          "base_uri": "https://localhost:8080/",
          "height": 531
        },
        "id": "igIMQ2bgB3lU",
        "outputId": "f43592d1-49b3-47ed-e507-b1792de50809"
      },
      "source": [
        "# plot the loss\n",
        "plt.plot(r.history['loss'], label='train loss')\n",
        "plt.plot(r.history['val_loss'], label='val loss')\n",
        "plt.legend()\n",
        "plt.show()\n",
        "plt.savefig('LossVal_loss')\n",
        "\n",
        "# plot the accuracy\n",
        "plt.plot(r.history['accuracy'], label='train acc')\n",
        "plt.plot(r.history['val_accuracy'], label='val acc')\n",
        "plt.legend()\n",
        "plt.show()\n",
        "plt.savefig('AccVal_acc')"
      ],
      "execution_count": 21,
      "outputs": [
        {
          "output_type": "display_data",
          "data": {
            "image/png": "[encoded data removed]",
            "text/plain": [
              "<Figure size 432x288 with 1 Axes>"
            ]
          },
          "metadata": {
            "tags": [],
            "needs_background": "light"
          }
        },
        {
          "output_type": "display_data",
          "data": {
            "image/png": "[encoded data removed]",
            "text/plain": [
              "<Figure size 432x288 with 1 Axes>"
            ]
          },
          "metadata": {
            "tags": [],
            "needs_background": "light"
          }
        },
        {
          "output_type": "display_data",
          "data": {
            "text/plain": [
              "<Figure size 432x288 with 0 Axes>"
            ]
          },
          "metadata": {
            "tags": []
          }
        }
      ]
    },
    {
      "cell_type": "code",
      "metadata": {
        "id": "4wHHOoVVB3lU"
      },
      "source": [
        "# save it as a h5 file\n",
        "\n",
        "\n",
        "from tensorflow.keras.models import load_model\n",
        "\n",
        "model.save('/content/drive/My Drive/Dataset/model_vgg19.h5')"
      ],
      "execution_count": 25,
      "outputs": []
    },
    {
      "cell_type": "code",
      "metadata": {
        "id": "DhrjN6yQB3lW"
      },
      "source": [
        ""
      ],
      "execution_count": 25,
      "outputs": []
    },
    {
      "cell_type": "code",
      "metadata": {
        "id": "EZACwawkB3lW"
      },
      "source": [
        "\n",
        "y_pred = model.predict(test_set)\n"
      ],
      "execution_count": 26,
      "outputs": []
    },
    {
      "cell_type": "code",
      "metadata": {
        "colab": {
          "base_uri": "https://localhost:8080/"
        },
        "id": "2ruSCaqQB3lX",
        "outputId": "3944d4ca-3cdd-4a59-cb7a-02e964235fcc"
      },
      "source": [
        "y_pred"
      ],
      "execution_count": 27,
      "outputs": [
        {
          "output_type": "execute_result",
          "data": {
            "text/plain": [
              "array([[3.64566743e-01, 6.35433197e-01],\n",
              "       [9.98996675e-01, 1.00338447e-03],\n",
              "       [9.99921918e-01, 7.80726841e-05],\n",
              "       [8.30058992e-01, 1.69941023e-01],\n",
              "       [2.38376647e-01, 7.61623383e-01],\n",
              "       [1.58097714e-01, 8.41902256e-01],\n",
              "       [9.26566869e-02, 9.07343328e-01],\n",
              "       [6.00681379e-02, 9.39931870e-01],\n",
              "       [9.99809325e-01, 1.90739505e-04],\n",
              "       [7.64622569e-01, 2.35377431e-01],\n",
              "       [9.99985456e-01, 1.45553004e-05],\n",
              "       [9.99664545e-01, 3.35453893e-04],\n",
              "       [9.99966860e-01, 3.31424344e-05],\n",
              "       [9.83190835e-01, 1.68091226e-02],\n",
              "       [5.32903612e-01, 4.67096418e-01],\n",
              "       [9.05105621e-02, 9.09489393e-01],\n",
              "       [9.92252052e-01, 7.74797006e-03],\n",
              "       [9.47495282e-01, 5.25047481e-02],\n",
              "       [9.17910516e-01, 8.20894465e-02],\n",
              "       [2.14550376e-01, 7.85449624e-01],\n",
              "       [9.98692453e-01, 1.30761776e-03],\n",
              "       [1.00000000e+00, 1.01521671e-08],\n",
              "       [5.90232834e-02, 9.40976739e-01],\n",
              "       [3.11168522e-01, 6.88831508e-01],\n",
              "       [7.01270774e-02, 9.29872930e-01],\n",
              "       [8.92997026e-01, 1.07002944e-01],\n",
              "       [1.36777163e-01, 8.63222837e-01],\n",
              "       [8.74662459e-01, 1.25337496e-01],\n",
              "       [2.76389718e-01, 7.23610222e-01],\n",
              "       [8.37586343e-01, 1.62413701e-01],\n",
              "       [9.81057525e-01, 1.89424474e-02],\n",
              "       [9.78189483e-02, 9.02181029e-01],\n",
              "       [1.86833411e-01, 8.13166618e-01],\n",
              "       [9.99915719e-01, 8.43251692e-05],\n",
              "       [1.35038346e-01, 8.64961684e-01],\n",
              "       [9.99232769e-01, 7.67206890e-04],\n",
              "       [6.93492353e-01, 3.06507647e-01],\n",
              "       [9.50519800e-01, 4.94802333e-02],\n",
              "       [4.07195807e-01, 5.92804134e-01],\n",
              "       [7.92791963e-01, 2.07208008e-01],\n",
              "       [9.99992490e-01, 7.55941392e-06],\n",
              "       [9.99996901e-01, 3.07621735e-06],\n",
              "       [4.99403358e-01, 5.00596642e-01],\n",
              "       [9.34761107e-01, 6.52388260e-02],\n",
              "       [9.47449505e-01, 5.25505133e-02],\n",
              "       [8.82516444e-01, 1.17483556e-01],\n",
              "       [9.99999285e-01, 7.41537690e-07],\n",
              "       [9.85123456e-01, 1.48765789e-02],\n",
              "       [9.98640239e-01, 1.35971548e-03],\n",
              "       [1.48416087e-02, 9.85158384e-01],\n",
              "       [9.58349466e-01, 4.16505970e-02],\n",
              "       [7.85979748e-01, 2.14020282e-01],\n",
              "       [8.47389698e-01, 1.52610302e-01],\n",
              "       [1.31861046e-01, 8.68138969e-01],\n",
              "       [1.38357341e-01, 8.61642659e-01],\n",
              "       [6.52358651e-01, 3.47641319e-01],\n",
              "       [9.98468697e-01, 1.53133133e-03],\n",
              "       [9.87473607e-01, 1.25264470e-02],\n",
              "       [4.26422745e-01, 5.73577225e-01],\n",
              "       [9.38885033e-01, 6.11149557e-02],\n",
              "       [9.93107915e-01, 6.89206831e-03],\n",
              "       [5.36778979e-02, 9.46322083e-01],\n",
              "       [9.99944687e-01, 5.52652818e-05],\n",
              "       [9.99769866e-01, 2.30093458e-04],\n",
              "       [9.93424058e-01, 6.57594530e-03],\n",
              "       [9.99852657e-01, 1.47284372e-04],\n",
              "       [9.76398408e-01, 2.36015134e-02],\n",
              "       [1.12152331e-01, 8.87847602e-01],\n",
              "       [4.96498883e-01, 5.03501058e-01],\n",
              "       [8.89984369e-01, 1.10015705e-01],\n",
              "       [9.99650598e-01, 3.49427137e-04],\n",
              "       [1.79135606e-01, 8.20864439e-01],\n",
              "       [9.96965349e-01, 3.03459354e-03],\n",
              "       [9.50864792e-01, 4.91352677e-02],\n",
              "       [9.99778211e-01, 2.21790586e-04],\n",
              "       [9.51816797e-01, 4.81831804e-02],\n",
              "       [4.46496397e-01, 5.53503573e-01],\n",
              "       [8.09389472e-01, 1.90610513e-01],\n",
              "       [9.97492075e-01, 2.50789430e-03],\n",
              "       [7.91928411e-01, 2.08071589e-01],\n",
              "       [9.58199799e-01, 4.18002158e-02],\n",
              "       [8.25378954e-01, 1.74621016e-01],\n",
              "       [9.99746621e-01, 2.53354112e-04],\n",
              "       [9.99995947e-01, 4.10346365e-06],\n",
              "       [9.99916196e-01, 8.38248088e-05],\n",
              "       [2.39374518e-01, 7.60625482e-01],\n",
              "       [1.69886053e-01, 8.30113947e-01],\n",
              "       [1.85882643e-01, 8.14117312e-01],\n",
              "       [1.83006942e-01, 8.16993058e-01],\n",
              "       [9.03247535e-01, 9.67524126e-02],\n",
              "       [8.38808775e-01, 1.61191195e-01],\n",
              "       [3.97604287e-01, 6.02395713e-01],\n",
              "       [9.44607928e-02, 9.05539155e-01],\n",
              "       [1.00000000e+00, 8.81483952e-09],\n",
              "       [9.99848485e-01, 1.51524335e-04],\n",
              "       [9.99017119e-01, 9.82912141e-04],\n",
              "       [9.99707043e-01, 2.92978191e-04],\n",
              "       [5.45031391e-02, 9.45496857e-01],\n",
              "       [9.99995589e-01, 4.41114753e-06],\n",
              "       [8.85528982e-01, 1.14471056e-01],\n",
              "       [9.31003809e-01, 6.89961687e-02],\n",
              "       [9.31920528e-01, 6.80794343e-02],\n",
              "       [1.27507700e-02, 9.87249196e-01],\n",
              "       [3.71840559e-02, 9.62815940e-01],\n",
              "       [1.86393023e-01, 8.13607037e-01],\n",
              "       [3.58208381e-02, 9.64179099e-01],\n",
              "       [9.99633908e-01, 3.66111082e-04],\n",
              "       [9.97766376e-01, 2.23361421e-03],\n",
              "       [9.83883440e-01, 1.61166079e-02],\n",
              "       [9.83335376e-01, 1.66646596e-02],\n",
              "       [9.46144521e-01, 5.38554452e-02],\n",
              "       [9.72085059e-01, 2.79149879e-02],\n",
              "       [9.99953508e-01, 4.64927543e-05],\n",
              "       [7.40769684e-01, 2.59230345e-01],\n",
              "       [9.99929070e-01, 7.08836742e-05],\n",
              "       [3.13041247e-02, 9.68695879e-01],\n",
              "       [9.87672985e-01, 1.23270415e-02],\n",
              "       [9.99490380e-01, 5.09599282e-04],\n",
              "       [9.99712765e-01, 2.87205999e-04],\n",
              "       [8.21063593e-02, 9.17893648e-01],\n",
              "       [9.99371469e-01, 6.28499722e-04],\n",
              "       [1.97294772e-01, 8.02705288e-01],\n",
              "       [9.99926209e-01, 7.37402588e-05],\n",
              "       [4.58789617e-02, 9.54120994e-01],\n",
              "       [2.63168544e-01, 7.36831427e-01],\n",
              "       [9.93596077e-01, 6.40389696e-03],\n",
              "       [1.52273580e-01, 8.47726405e-01],\n",
              "       [1.39600113e-01, 8.60399902e-01],\n",
              "       [9.99993324e-01, 6.73042859e-06],\n",
              "       [1.71312451e-01, 8.28687489e-01],\n",
              "       [9.84917700e-01, 1.50823649e-02],\n",
              "       [9.99705255e-01, 2.94771045e-04],\n",
              "       [9.99181926e-01, 8.18012690e-04],\n",
              "       [5.70808165e-02, 9.42919195e-01]], dtype=float32)"
            ]
          },
          "metadata": {
            "tags": []
          },
          "execution_count": 27
        }
      ]
    },
    {
      "cell_type": "code",
      "metadata": {
        "id": "SjptUNarB3lX"
      },
      "source": [
        "import numpy as np\n",
        "y_pred = np.argmax(y_pred, axis=1)"
      ],
      "execution_count": 28,
      "outputs": []
    },
    {
      "cell_type": "code",
      "metadata": {
        "colab": {
          "base_uri": "https://localhost:8080/"
        },
        "id": "2CCn18jqB3lX",
        "outputId": "630cac2e-023c-4023-c1be-92cae9cb95e5"
      },
      "source": [
        "y_pred"
      ],
      "execution_count": 29,
      "outputs": [
        {
          "output_type": "execute_result",
          "data": {
            "text/plain": [
              "array([1, 0, 0, 0, 1, 1, 1, 1, 0, 0, 0, 0, 0, 0, 0, 1, 0, 0, 0, 1, 0, 0,\n",
              "       1, 1, 1, 0, 1, 0, 1, 0, 0, 1, 1, 0, 1, 0, 0, 0, 1, 0, 0, 0, 1, 0,\n",
              "       0, 0, 0, 0, 0, 1, 0, 0, 0, 1, 1, 0, 0, 0, 1, 0, 0, 1, 0, 0, 0, 0,\n",
              "       0, 1, 1, 0, 0, 1, 0, 0, 0, 0, 1, 0, 0, 0, 0, 0, 0, 0, 0, 1, 1, 1,\n",
              "       1, 0, 0, 1, 1, 0, 0, 0, 0, 1, 0, 0, 0, 0, 1, 1, 1, 1, 0, 0, 0, 0,\n",
              "       0, 0, 0, 0, 0, 1, 0, 0, 0, 1, 0, 1, 0, 1, 1, 0, 1, 1, 0, 1, 0, 0,\n",
              "       0, 1])"
            ]
          },
          "metadata": {
            "tags": []
          },
          "execution_count": 29
        }
      ]
    },
    {
      "cell_type": "code",
      "metadata": {
        "id": "1R5OK3ifB3lY"
      },
      "source": [
        ""
      ],
      "execution_count": 29,
      "outputs": []
    },
    {
      "cell_type": "code",
      "metadata": {
        "id": "6PQgmN-HB3lY"
      },
      "source": [
        "from tensorflow.keras.models import load_model\n",
        "from tensorflow.keras.preprocessing import image"
      ],
      "execution_count": 30,
      "outputs": []
    },
    {
      "cell_type": "code",
      "metadata": {
        "id": "gpxLQGnqB3lY"
      },
      "source": [
        "model=load_model('/content/drive/My Drive/Dataset/model_vgg19.h5')"
      ],
      "execution_count": 31,
      "outputs": []
    },
    {
      "cell_type": "code",
      "metadata": {
        "id": "eu88ZT5wB3lY"
      },
      "source": [
        ""
      ],
      "execution_count": 31,
      "outputs": []
    },
    {
      "cell_type": "code",
      "metadata": {
        "id": "7CEkK4N3B3lY"
      },
      "source": [
        "img=image.load_img('/content/drive/My Drive/Dataset/Test/Uninfected/2.png',target_size=(224,224))\n",
        "\n"
      ],
      "execution_count": 32,
      "outputs": []
    },
    {
      "cell_type": "code",
      "metadata": {
        "colab": {
          "base_uri": "https://localhost:8080/"
        },
        "id": "lCV_XOwkB3lY",
        "outputId": "34601c5e-a03a-49d2-a22d-a34a65341d59"
      },
      "source": [
        "x=image.img_to_array(img)\n",
        "x"
      ],
      "execution_count": 33,
      "outputs": [
        {
          "output_type": "execute_result",
          "data": {
            "text/plain": [
              "array([[[0., 0., 0.],\n",
              "        [0., 0., 0.],\n",
              "        [0., 0., 0.],\n",
              "        ...,\n",
              "        [0., 0., 0.],\n",
              "        [0., 0., 0.],\n",
              "        [0., 0., 0.]],\n",
              "\n",
              "       [[0., 0., 0.],\n",
              "        [0., 0., 0.],\n",
              "        [0., 0., 0.],\n",
              "        ...,\n",
              "        [0., 0., 0.],\n",
              "        [0., 0., 0.],\n",
              "        [0., 0., 0.]],\n",
              "\n",
              "       [[0., 0., 0.],\n",
              "        [0., 0., 0.],\n",
              "        [0., 0., 0.],\n",
              "        ...,\n",
              "        [0., 0., 0.],\n",
              "        [0., 0., 0.],\n",
              "        [0., 0., 0.]],\n",
              "\n",
              "       ...,\n",
              "\n",
              "       [[0., 0., 0.],\n",
              "        [0., 0., 0.],\n",
              "        [0., 0., 0.],\n",
              "        ...,\n",
              "        [0., 0., 0.],\n",
              "        [0., 0., 0.],\n",
              "        [0., 0., 0.]],\n",
              "\n",
              "       [[0., 0., 0.],\n",
              "        [0., 0., 0.],\n",
              "        [0., 0., 0.],\n",
              "        ...,\n",
              "        [0., 0., 0.],\n",
              "        [0., 0., 0.],\n",
              "        [0., 0., 0.]],\n",
              "\n",
              "       [[0., 0., 0.],\n",
              "        [0., 0., 0.],\n",
              "        [0., 0., 0.],\n",
              "        ...,\n",
              "        [0., 0., 0.],\n",
              "        [0., 0., 0.],\n",
              "        [0., 0., 0.]]], dtype=float32)"
            ]
          },
          "metadata": {
            "tags": []
          },
          "execution_count": 33
        }
      ]
    },
    {
      "cell_type": "code",
      "metadata": {
        "colab": {
          "base_uri": "https://localhost:8080/"
        },
        "id": "XJBX6tI-B3lZ",
        "outputId": "b1339ed6-df9b-48de-e9ca-806c782ecbe0"
      },
      "source": [
        "x.shape"
      ],
      "execution_count": 34,
      "outputs": [
        {
          "output_type": "execute_result",
          "data": {
            "text/plain": [
              "(224, 224, 3)"
            ]
          },
          "metadata": {
            "tags": []
          },
          "execution_count": 34
        }
      ]
    },
    {
      "cell_type": "code",
      "metadata": {
        "id": "exfkBdMxB3la"
      },
      "source": [
        "x=x/255"
      ],
      "execution_count": 35,
      "outputs": []
    },
    {
      "cell_type": "code",
      "metadata": {
        "colab": {
          "base_uri": "https://localhost:8080/"
        },
        "id": "gPzKDDbOB3la",
        "outputId": "309f591e-6035-44ca-8919-5c0f352f9a20"
      },
      "source": [
        "x=np.expand_dims(x,axis=0)\n",
        "img_data=preprocess_input(x)\n",
        "img_data.shape"
      ],
      "execution_count": 36,
      "outputs": [
        {
          "output_type": "execute_result",
          "data": {
            "text/plain": [
              "(1, 224, 224, 3)"
            ]
          },
          "metadata": {
            "tags": []
          },
          "execution_count": 36
        }
      ]
    },
    {
      "cell_type": "code",
      "metadata": {
        "colab": {
          "base_uri": "https://localhost:8080/"
        },
        "id": "y6a67MMtB3lb",
        "outputId": "c571d0a9-e6df-4c8e-84f0-80c95210799d"
      },
      "source": [
        "model.predict(img_data)"
      ],
      "execution_count": 37,
      "outputs": [
        {
          "output_type": "execute_result",
          "data": {
            "text/plain": [
              "array([[8.5184106e-04, 9.9914813e-01]], dtype=float32)"
            ]
          },
          "metadata": {
            "tags": []
          },
          "execution_count": 37
        }
      ]
    },
    {
      "cell_type": "code",
      "metadata": {
        "id": "9Gw5IRl8B3lb"
      },
      "source": [
        "a=np.argmax(model.predict(img_data), axis=1)"
      ],
      "execution_count": 38,
      "outputs": []
    },
    {
      "cell_type": "code",
      "metadata": {
        "colab": {
          "base_uri": "https://localhost:8080/"
        },
        "id": "iKa1Xxl8B3lb",
        "outputId": "f716bcb9-8fc0-4150-b634-de7040d39323"
      },
      "source": [
        "if(a==1):\n",
        "    print(\"Uninfected\")\n",
        "else:\n",
        "    print(\"Infected\")"
      ],
      "execution_count": 39,
      "outputs": [
        {
          "output_type": "stream",
          "text": [
            "Uninfected\n"
          ],
          "name": "stdout"
        }
      ]
    },
    {
      "cell_type": "code",
      "metadata": {
        "id": "Viuuq-LGB3lb"
      },
      "source": [
        ""
      ],
      "execution_count": null,
      "outputs": []
    },
    {
      "cell_type": "code",
      "metadata": {
        "id": "hecv2rSTB3lc"
      },
      "source": [
        ""
      ],
      "execution_count": null,
      "outputs": []
    }
  ]
}